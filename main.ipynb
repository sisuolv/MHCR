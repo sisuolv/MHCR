{
 "cells": [
  {
   "cell_type": "code",
   "execution_count": null,
   "metadata": {
    "metadata": {},
    "tags": []
   },
   "outputs": [],
   "source": [
    "import os\n",
    "import argparse\n",
    "import logging\n",
    "from datetime import datetime\n",
    "from utils.quick_start import quick_start\n",
    "\n",
    "# Ensure the output directory exists\n",
    "output_dir = 'output'\n",
    "os.makedirs(output_dir, exist_ok=True)\n",
    "\n",
    "# Create a unique log file name using the current timestamp\n",
    "log_filename = os.path.join(output_dir, f'output_{datetime.now().strftime(\"%Y%m%d_%H%M%S\")}.log')\n",
    "\n",
    "logging.basicConfig(level=logging.INFO, format='%(asctime)s %(message)s', handlers=[logging.FileHandler(log_filename), logging.StreamHandler()])\n",
    "\n",
    "os.environ['NUMEXPR_MAX_THREADS'] = '48'\n",
    "\n",
    "if __name__ == '__main__':\n",
    "    parser = argparse.ArgumentParser()\n",
    "    parser.add_argument('--model', '-m', type=str, default='MHCR', help='name of models')\n",
    "    parser.add_argument('--dataset', '-d', type=str, default='microlens_100k', help='name of datasets')\n",
    "    # parser.add_argument('--dataset', '-d', type=str, default='microlens_50k', help='name of datasets')\n",
    "\n",
    "    config_dict = {\n",
    "        'gpu_id': 0,\n",
    "    }\n",
    "\n",
    "    args, _ = parser.parse_known_args()\n",
    "\n",
    "    logging.info('Starting quick_start with model: %s and dataset: %s', args.model, args.dataset)\n",
    "    \n",
    "    quick_start(model=args.model, dataset=args.dataset, config_dict=config_dict, save_model=True)\n",
    "    \n",
    "    logging.info('Completed quick_start with model: %s and dataset: %s', args.model, args.dataset)\n"
   ]
  },
  {
   "cell_type": "markdown",
   "metadata": {},
   "source": []
  }
 ],
 "metadata": {
  "kernelspec": {
   "display_name": "base",
   "language": "python",
   "name": "python3"
  },
  "language_info": {
   "codemirror_mode": {
    "name": "ipython",
    "version": 3
   },
   "file_extension": ".py",
   "mimetype": "text/x-python",
   "name": "python",
   "nbconvert_exporter": "python",
   "pygments_lexer": "ipython3",
   "version": "3.8.10"
  }
 },
 "nbformat": 4,
 "nbformat_minor": 4
}
