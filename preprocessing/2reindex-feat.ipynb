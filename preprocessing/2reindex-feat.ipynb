{
 "cells": [
  {
   "cell_type": "markdown",
   "metadata": {
    "collapsed": false
   },
   "source": [
    "# Match the features (meta-text) one by one using the U/I indices from `rating2inter.ipynb`.\n",
    "- Reindex item feature ID with IDs generated in 0rating2inter.ipynb"
   ]
  },
  {
   "cell_type": "code",
   "execution_count": 1,
   "metadata": {
    "collapsed": true
   },
   "outputs": [],
   "source": [
    "import os\n",
    "import pandas as pd"
   ]
  },
  {
   "cell_type": "code",
   "execution_count": 2,
   "metadata": {
    "collapsed": false,
    "pycharm": {
     "name": "#%%\n"
    }
   },
   "outputs": [
    {
     "data": {
      "text/plain": [
       "'/root/preprocessing/data'"
      ]
     },
     "execution_count": 2,
     "metadata": {},
     "output_type": "execute_result"
    }
   ],
   "source": [
    "os.chdir('data')\n",
    "os.getcwd()"
   ]
  },
  {
   "cell_type": "code",
   "execution_count": 3,
   "metadata": {
    "collapsed": false,
    "pycharm": {
     "name": "#%%\n"
    }
   },
   "outputs": [
    {
     "name": "stdout",
     "output_type": "stream",
     "text": [
      "shape: (19738, 2)\n"
     ]
    },
    {
     "data": {
      "text/html": [
       "<div>\n",
       "<style scoped>\n",
       "    .dataframe tbody tr th:only-of-type {\n",
       "        vertical-align: middle;\n",
       "    }\n",
       "\n",
       "    .dataframe tbody tr th {\n",
       "        vertical-align: top;\n",
       "    }\n",
       "\n",
       "    .dataframe thead th {\n",
       "        text-align: right;\n",
       "    }\n",
       "</style>\n",
       "<table border=\"1\" class=\"dataframe\">\n",
       "  <thead>\n",
       "    <tr style=\"text-align: right;\">\n",
       "      <th></th>\n",
       "      <th>asin</th>\n",
       "      <th>itemID</th>\n",
       "    </tr>\n",
       "  </thead>\n",
       "  <tbody>\n",
       "    <tr>\n",
       "      <th>0</th>\n",
       "      <td>9580</td>\n",
       "      <td>0</td>\n",
       "    </tr>\n",
       "    <tr>\n",
       "      <th>1</th>\n",
       "      <td>14631</td>\n",
       "      <td>1</td>\n",
       "    </tr>\n",
       "    <tr>\n",
       "      <th>2</th>\n",
       "      <td>7315</td>\n",
       "      <td>2</td>\n",
       "    </tr>\n",
       "    <tr>\n",
       "      <th>3</th>\n",
       "      <td>1955</td>\n",
       "      <td>3</td>\n",
       "    </tr>\n",
       "  </tbody>\n",
       "</table>\n",
       "</div>"
      ],
      "text/plain": [
       "    asin  itemID\n",
       "0   9580       0\n",
       "1  14631       1\n",
       "2   7315       2\n",
       "3   1955       3"
      ]
     },
     "execution_count": 3,
     "metadata": {},
     "output_type": "execute_result"
    }
   ],
   "source": [
    "# load item mapping\n",
    "i_id_mapping = 'i_id_mapping.csv'\n",
    "df = pd.read_csv(i_id_mapping, sep='\\t')\n",
    "print(f'shape: {df.shape}')\n",
    "df[:4]"
   ]
  },
  {
   "cell_type": "code",
   "execution_count": 4,
   "metadata": {
    "collapsed": false,
    "pycharm": {
     "name": "#%%\n"
    }
   },
   "outputs": [
    {
     "name": "stdout",
     "output_type": "stream",
     "text": [
      "shape of extracted titles: (19738, 2)\n"
     ]
    }
   ],
   "source": [
    "extracted_titles_path = 'MicroLens-100k_title_en.csv'\n",
    "titles_df = pd.read_csv(extracted_titles_path)\n",
    "print(f'shape of extracted titles: {titles_df.shape}')"
   ]
  },
  {
   "cell_type": "code",
   "execution_count": 5,
   "metadata": {
    "collapsed": false,
    "pycharm": {
     "name": "#%%\n"
    }
   },
   "outputs": [],
   "source": [
    "#Add the textual features (e.g., title) into the itemID mapping table.\n",
    "map_dict = dict(zip(df['asin'], df['itemID']))\n",
    "titles_df['itemID'] = titles_df['item'].map(map_dict)\n",
    "titles_df.dropna(subset=['itemID'], inplace=True)\n",
    "titles_df['itemID'] = titles_df['itemID'].astype('int64')"
   ]
  },
  {
   "cell_type": "code",
   "execution_count": 6,
   "metadata": {
    "collapsed": false,
    "pycharm": {
     "name": "#%%\n"
    }
   },
   "outputs": [
    {
     "name": "stdout",
     "output_type": "stream",
     "text": [
      "new column names: ['itemID', 'item', 'title']\n"
     ]
    }
   ],
   "source": [
    "ori_cols = titles_df.columns.tolist()\n",
    "\n",
    "ret_cols = [ori_cols[-1]] + ori_cols[:-1]\n",
    "print(f'new column names: {ret_cols}')"
   ]
  },
  {
   "cell_type": "code",
   "execution_count": 7,
   "metadata": {
    "collapsed": false,
    "pycharm": {
     "name": "#%%\n"
    }
   },
   "outputs": [
    {
     "data": {
      "text/html": [
       "<div>\n",
       "<style scoped>\n",
       "    .dataframe tbody tr th:only-of-type {\n",
       "        vertical-align: middle;\n",
       "    }\n",
       "\n",
       "    .dataframe tbody tr th {\n",
       "        vertical-align: top;\n",
       "    }\n",
       "\n",
       "    .dataframe thead th {\n",
       "        text-align: right;\n",
       "    }\n",
       "</style>\n",
       "<table border=\"1\" class=\"dataframe\">\n",
       "  <thead>\n",
       "    <tr style=\"text-align: right;\">\n",
       "      <th></th>\n",
       "      <th>item</th>\n",
       "      <th>title</th>\n",
       "      <th>itemID</th>\n",
       "    </tr>\n",
       "  </thead>\n",
       "  <tbody>\n",
       "    <tr>\n",
       "      <th>0</th>\n",
       "      <td>1</td>\n",
       "      <td>Gu long song gaga bad</td>\n",
       "      <td>2638</td>\n",
       "    </tr>\n",
       "    <tr>\n",
       "      <th>1</th>\n",
       "      <td>2</td>\n",
       "      <td>beautiful dish with 5 pounds of duck intestines</td>\n",
       "      <td>8765</td>\n",
       "    </tr>\n",
       "    <tr>\n",
       "      <th>2</th>\n",
       "      <td>3</td>\n",
       "      <td>This sudden reversal</td>\n",
       "      <td>928</td>\n",
       "    </tr>\n",
       "  </tbody>\n",
       "</table>\n",
       "</div>"
      ],
      "text/plain": [
       "   item                                             title  itemID\n",
       "0     1                             Gu long song gaga bad    2638\n",
       "1     2   beautiful dish with 5 pounds of duck intestines    8765\n",
       "2     3                              This sudden reversal     928"
      ]
     },
     "execution_count": 7,
     "metadata": {},
     "output_type": "execute_result"
    }
   ],
   "source": [
    "titles_df[:3]"
   ]
  },
  {
   "cell_type": "code",
   "execution_count": 8,
   "metadata": {
    "collapsed": false,
    "pycharm": {
     "name": "#%%\n"
    }
   },
   "outputs": [
    {
     "name": "stdout",
     "output_type": "stream",
     "text": [
      "done!\n"
     ]
    }
   ],
   "source": [
    "ret_df = titles_df[ret_cols]\n",
    "# dump\n",
    "ret_df.to_csv(os.path.join('./', 'simple.csv'), index=False)\n",
    "print('done!')"
   ]
  },
  {
   "cell_type": "code",
   "execution_count": 9,
   "metadata": {},
   "outputs": [
    {
     "name": "stdout",
     "output_type": "stream",
     "text": [
      "   itemID  item                                             title  \\\n",
      "0    2638     1                             Gu long song gaga bad   \n",
      "1    8765     2   beautiful dish with 5 pounds of duck intestines   \n",
      "2     928     3                              This sudden reversal   \n",
      "3   17697     4                     pumpkin play armor new outfit   \n",
      "4   14555     5                          the wife a day brush 200   \n",
      "\n",
      "                        tags  \n",
      "0                      Anime  \n",
      "1                   Delicacy  \n",
      "2              Daily Sharing  \n",
      "3                       Game  \n",
      "4  Film and Television Works  \n"
     ]
    }
   ],
   "source": [
    "tags_df = pd.read_csv('tags_to_summary.csv', header=None, names=['item', 'tags'])\n",
    "meta_simple_df = pd.read_csv('simple.csv')\n",
    "\n",
    "# Create a tags mapping dictionary.\n",
    "tags_map_dict = dict(zip(tags_df['item'], tags_df['tags']))\n",
    "meta_simple_df['tags'] = meta_simple_df['item'].map(tags_map_dict)\n",
    "\n",
    "print(meta_simple_df.head())\n",
    "meta_simple_df.to_csv('meta_MicroLens.csv', index=False)\n"
   ]
  },
  {
   "cell_type": "markdown",
   "metadata": {
    "collapsed": false
   },
   "source": [
    "## Reload"
   ]
  },
  {
   "cell_type": "code",
   "execution_count": 10,
   "metadata": {
    "collapsed": false,
    "pycharm": {
     "name": "#%%\n"
    }
   },
   "outputs": [
    {
     "name": "stdout",
     "output_type": "stream",
     "text": [
      "shape: (19738, 4)\n"
     ]
    },
    {
     "data": {
      "text/html": [
       "<div>\n",
       "<style scoped>\n",
       "    .dataframe tbody tr th:only-of-type {\n",
       "        vertical-align: middle;\n",
       "    }\n",
       "\n",
       "    .dataframe tbody tr th {\n",
       "        vertical-align: top;\n",
       "    }\n",
       "\n",
       "    .dataframe thead th {\n",
       "        text-align: right;\n",
       "    }\n",
       "</style>\n",
       "<table border=\"1\" class=\"dataframe\">\n",
       "  <thead>\n",
       "    <tr style=\"text-align: right;\">\n",
       "      <th></th>\n",
       "      <th>itemID</th>\n",
       "      <th>item</th>\n",
       "      <th>title</th>\n",
       "      <th>tags</th>\n",
       "    </tr>\n",
       "  </thead>\n",
       "  <tbody>\n",
       "    <tr>\n",
       "      <th>0</th>\n",
       "      <td>2638</td>\n",
       "      <td>1</td>\n",
       "      <td>Gu long song gaga bad</td>\n",
       "      <td>Anime</td>\n",
       "    </tr>\n",
       "    <tr>\n",
       "      <th>1</th>\n",
       "      <td>8765</td>\n",
       "      <td>2</td>\n",
       "      <td>beautiful dish with 5 pounds of duck intestines</td>\n",
       "      <td>Delicacy</td>\n",
       "    </tr>\n",
       "    <tr>\n",
       "      <th>2</th>\n",
       "      <td>928</td>\n",
       "      <td>3</td>\n",
       "      <td>This sudden reversal</td>\n",
       "      <td>Daily Sharing</td>\n",
       "    </tr>\n",
       "    <tr>\n",
       "      <th>3</th>\n",
       "      <td>17697</td>\n",
       "      <td>4</td>\n",
       "      <td>pumpkin play armor new outfit</td>\n",
       "      <td>Game</td>\n",
       "    </tr>\n",
       "  </tbody>\n",
       "</table>\n",
       "</div>"
      ],
      "text/plain": [
       "   itemID  item                                             title  \\\n",
       "0    2638     1                             Gu long song gaga bad   \n",
       "1    8765     2   beautiful dish with 5 pounds of duck intestines   \n",
       "2     928     3                              This sudden reversal   \n",
       "3   17697     4                     pumpkin play armor new outfit   \n",
       "\n",
       "            tags  \n",
       "0          Anime  \n",
       "1       Delicacy  \n",
       "2  Daily Sharing  \n",
       "3           Game  "
      ]
     },
     "execution_count": 10,
     "metadata": {},
     "output_type": "execute_result"
    }
   ],
   "source": [
    "indexed_df = pd.read_csv('meta_MicroLens.csv')\n",
    "print(f'shape: {indexed_df.shape}')\n",
    "indexed_df[:4]"
   ]
  },
  {
   "cell_type": "code",
   "execution_count": 11,
   "metadata": {
    "collapsed": false,
    "pycharm": {
     "name": "#%%\n"
    }
   },
   "outputs": [
    {
     "name": "stdout",
     "output_type": "stream",
     "text": [
      "# of unique items: 19738\n",
      "min/max of unique learners: 0/19737\n"
     ]
    }
   ],
   "source": [
    "## Reload\n",
    "\n",
    "i_uni = indexed_df['itemID'].unique()\n",
    "\n",
    "print(f'# of unique items: {len(i_uni)}')\n",
    "\n",
    "print('min/max of unique learners: {0}/{1}'.format(min(i_uni), max(i_uni)))"
   ]
  }
 ],
 "metadata": {
  "kernelspec": {
   "display_name": "Python 3",
   "language": "python",
   "name": "python3"
  },
  "language_info": {
   "codemirror_mode": {
    "name": "ipython",
    "version": 3
   },
   "file_extension": ".py",
   "mimetype": "text/x-python",
   "name": "python",
   "nbconvert_exporter": "python",
   "pygments_lexer": "ipython3",
   "version": "3.8.10"
  }
 },
 "nbformat": 4,
 "nbformat_minor": 0
}
